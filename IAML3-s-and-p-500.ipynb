{
 "cells": [
  {
   "cell_type": "code",
   "execution_count": 12,
   "id": "5374c3de-3aef-4beb-ba3b-f105c842a25e",
   "metadata": {},
   "outputs": [],
   "source": [
    "import pandas as pd\n",
    "import numpy as np"
   ]
  },
  {
   "cell_type": "markdown",
   "id": "d5ee05bf-453c-4709-b127-f2b6b52bde5d",
   "metadata": {},
   "source": [
    "Cargar dataset"
   ]
  },
  {
   "cell_type": "code",
   "execution_count": 13,
   "id": "918b2322-7901-4fcc-8dd7-43b9984cd0b6",
   "metadata": {},
   "outputs": [],
   "source": [
    "url = \"https://datahub.io/core/s-and-p-500/r/data.csv\"\n",
    "df = pd.read_csv(url)"
   ]
  },
  {
   "cell_type": "markdown",
   "id": "8b4ca918-e739-46af-badd-d09c1cad01d1",
   "metadata": {},
   "source": [
    "Analisis inicial"
   ]
  },
  {
   "cell_type": "code",
   "execution_count": 14,
   "id": "a00988ab-2626-43d4-b370-2e995cd1dfd8",
   "metadata": {},
   "outputs": [
    {
     "name": "stdout",
     "output_type": "stream",
     "text": [
      "<class 'pandas.core.frame.DataFrame'>\n",
      "RangeIndex: 1833 entries, 0 to 1832\n",
      "Data columns (total 10 columns):\n",
      " #   Column                Non-Null Count  Dtype  \n",
      "---  ------                --------------  -----  \n",
      " 0   Date                  1833 non-null   object \n",
      " 1   SP500                 1833 non-null   float64\n",
      " 2   Dividend              1833 non-null   float64\n",
      " 3   Earnings              1833 non-null   float64\n",
      " 4   Consumer Price Index  1833 non-null   float64\n",
      " 5   Long Interest Rate    1833 non-null   float64\n",
      " 6   Real Price            1833 non-null   float64\n",
      " 7   Real Dividend         1833 non-null   float64\n",
      " 8   Real Earnings         1833 non-null   float64\n",
      " 9   PE10                  1833 non-null   float64\n",
      "dtypes: float64(9), object(1)\n",
      "memory usage: 143.3+ KB\n",
      "Informacion general:\n",
      " None \n",
      "\n",
      "Primeras filas:\n",
      "          Date  SP500  Dividend  Earnings  Consumer Price Index  \\\n",
      "0  1871-01-01   4.44      0.26       0.4                 12.46   \n",
      "1  1871-02-01   4.50      0.26       0.4                 12.84   \n",
      "2  1871-03-01   4.61      0.26       0.4                 13.03   \n",
      "3  1871-04-01   4.74      0.26       0.4                 12.56   \n",
      "4  1871-05-01   4.86      0.26       0.4                 12.27   \n",
      "\n",
      "   Long Interest Rate  Real Price  Real Dividend  Real Earnings  PE10  \n",
      "0                5.32      109.05           6.39           9.82   0.0  \n",
      "1                5.32      107.25           6.20           9.53   0.0  \n",
      "2                5.33      108.27           6.11           9.39   0.0  \n",
      "3                5.33      115.54           6.34           9.75   0.0  \n",
      "4                5.33      121.22           6.48           9.98   0.0   \n",
      "\n",
      "Tipos de columnas:\n",
      " Date                     object\n",
      "SP500                   float64\n",
      "Dividend                float64\n",
      "Earnings                float64\n",
      "Consumer Price Index    float64\n",
      "Long Interest Rate      float64\n",
      "Real Price              float64\n",
      "Real Dividend           float64\n",
      "Real Earnings           float64\n",
      "PE10                    float64\n",
      "dtype: object \n",
      "\n",
      "Valores nulos por columna:\n",
      " Date                    0\n",
      "SP500                   0\n",
      "Dividend                0\n",
      "Earnings                0\n",
      "Consumer Price Index    0\n",
      "Long Interest Rate      0\n",
      "Real Price              0\n",
      "Real Dividend           0\n",
      "Real Earnings           0\n",
      "PE10                    0\n",
      "dtype: int64 \n",
      "\n"
     ]
    }
   ],
   "source": [
    "print(\"Informacion general:\\n\", df.info(), \"\\n\")\n",
    "print(\"Primeras filas:\\n\", df.head(), \"\\n\")\n",
    "print(\"Tipos de columnas:\\n\", df.dtypes, \"\\n\")\n",
    "print(\"Valores nulos por columna:\\n\", df.isnull().sum(), \"\\n\")"
   ]
  },
  {
   "cell_type": "markdown",
   "id": "66633d0c-1815-44d2-a57a-42380b73dd00",
   "metadata": {},
   "source": [
    "Limpieza basica"
   ]
  },
  {
   "cell_type": "code",
   "execution_count": 15,
   "id": "72826f7e-e85c-4fbd-9e63-f8cb41e8335a",
   "metadata": {},
   "outputs": [],
   "source": [
    "df = df.dropna()\n",
    "df['Date'] = pd.to_datetime(df['Date'], errors='coerce')\n",
    "df = df.dropna(subset=['Date'])"
   ]
  },
  {
   "cell_type": "markdown",
   "id": "0d8a2139-ab23-4360-8093-27b3efdef44a",
   "metadata": {},
   "source": [
    " Nueva columna: rendimiento mensual (log-return del precio real)"
   ]
  },
  {
   "cell_type": "code",
   "execution_count": 16,
   "id": "6e89608c-cede-4e00-aee3-28a7a4bacb91",
   "metadata": {},
   "outputs": [],
   "source": [
    "df['Real_Price'] = df['Real Price']\n",
    "df['Log_Return'] = (df['Real_Price'] / df['Real_Price'].shift(1)).apply(\n",
    "    lambda x: np.nan if pd.isna(x) else np.log(x)\n",
    ")"
   ]
  },
  {
   "cell_type": "code",
   "execution_count": 17,
   "id": "28ba1ed8-ce66-462a-9f36-173e347eb1b2",
   "metadata": {},
   "outputs": [
    {
     "name": "stdout",
     "output_type": "stream",
     "text": [
      "Resumen Log_Return:\n",
      " count    1832.000000\n",
      "mean        0.002032\n",
      "std         0.040829\n",
      "min        -0.307523\n",
      "25%        -0.017061\n",
      "50%         0.005587\n",
      "75%         0.025416\n",
      "max         0.414850\n",
      "Name: Log_Return, dtype: float64 \n",
      "\n"
     ]
    }
   ],
   "source": [
    "print(\"Resumen Log_Return:\\n\", df['Log_Return'].describe(), \"\\n\")"
   ]
  },
  {
   "cell_type": "markdown",
   "id": "fc30f64b-4f1e-49b9-ba61-b67a3c0311ca",
   "metadata": {},
   "source": [
    "Guardar dataset limpio"
   ]
  },
  {
   "cell_type": "code",
   "execution_count": 18,
   "id": "37aa1f50-987a-4eaf-b549-2294540168d2",
   "metadata": {},
   "outputs": [],
   "source": [
    "df.to_csv(\"s-and-p-500_clean.csv\", index=False)"
   ]
  },
  {
   "cell_type": "markdown",
   "id": "00e22c4f-d1c9-4a0a-a03b-44c27ed0c8dc",
   "metadata": {},
   "source": [
    "Dataset limpio"
   ]
  },
  {
   "cell_type": "code",
   "execution_count": 19,
   "id": "12a0230e-4c5f-4e43-8b02-9f0ccc45e563",
   "metadata": {},
   "outputs": [
    {
     "data": {
      "text/html": [
       "<div>\n",
       "<style scoped>\n",
       "    .dataframe tbody tr th:only-of-type {\n",
       "        vertical-align: middle;\n",
       "    }\n",
       "\n",
       "    .dataframe tbody tr th {\n",
       "        vertical-align: top;\n",
       "    }\n",
       "\n",
       "    .dataframe thead th {\n",
       "        text-align: right;\n",
       "    }\n",
       "</style>\n",
       "<table border=\"1\" class=\"dataframe\">\n",
       "  <thead>\n",
       "    <tr style=\"text-align: right;\">\n",
       "      <th></th>\n",
       "      <th>Date</th>\n",
       "      <th>SP500</th>\n",
       "      <th>Dividend</th>\n",
       "      <th>Earnings</th>\n",
       "      <th>Consumer Price Index</th>\n",
       "      <th>Long Interest Rate</th>\n",
       "      <th>Real Price</th>\n",
       "      <th>Real Dividend</th>\n",
       "      <th>Real Earnings</th>\n",
       "      <th>PE10</th>\n",
       "      <th>Real_Price</th>\n",
       "      <th>Log_Return</th>\n",
       "    </tr>\n",
       "  </thead>\n",
       "  <tbody>\n",
       "    <tr>\n",
       "      <th>0</th>\n",
       "      <td>1871-01-01</td>\n",
       "      <td>4.44</td>\n",
       "      <td>0.26</td>\n",
       "      <td>0.4</td>\n",
       "      <td>12.46</td>\n",
       "      <td>5.32</td>\n",
       "      <td>109.05</td>\n",
       "      <td>6.39</td>\n",
       "      <td>9.82</td>\n",
       "      <td>0.0</td>\n",
       "      <td>109.05</td>\n",
       "      <td>NaN</td>\n",
       "    </tr>\n",
       "    <tr>\n",
       "      <th>1</th>\n",
       "      <td>1871-02-01</td>\n",
       "      <td>4.50</td>\n",
       "      <td>0.26</td>\n",
       "      <td>0.4</td>\n",
       "      <td>12.84</td>\n",
       "      <td>5.32</td>\n",
       "      <td>107.25</td>\n",
       "      <td>6.20</td>\n",
       "      <td>9.53</td>\n",
       "      <td>0.0</td>\n",
       "      <td>107.25</td>\n",
       "      <td>-0.016644</td>\n",
       "    </tr>\n",
       "    <tr>\n",
       "      <th>2</th>\n",
       "      <td>1871-03-01</td>\n",
       "      <td>4.61</td>\n",
       "      <td>0.26</td>\n",
       "      <td>0.4</td>\n",
       "      <td>13.03</td>\n",
       "      <td>5.33</td>\n",
       "      <td>108.27</td>\n",
       "      <td>6.11</td>\n",
       "      <td>9.39</td>\n",
       "      <td>0.0</td>\n",
       "      <td>108.27</td>\n",
       "      <td>0.009466</td>\n",
       "    </tr>\n",
       "    <tr>\n",
       "      <th>3</th>\n",
       "      <td>1871-04-01</td>\n",
       "      <td>4.74</td>\n",
       "      <td>0.26</td>\n",
       "      <td>0.4</td>\n",
       "      <td>12.56</td>\n",
       "      <td>5.33</td>\n",
       "      <td>115.54</td>\n",
       "      <td>6.34</td>\n",
       "      <td>9.75</td>\n",
       "      <td>0.0</td>\n",
       "      <td>115.54</td>\n",
       "      <td>0.064989</td>\n",
       "    </tr>\n",
       "    <tr>\n",
       "      <th>4</th>\n",
       "      <td>1871-05-01</td>\n",
       "      <td>4.86</td>\n",
       "      <td>0.26</td>\n",
       "      <td>0.4</td>\n",
       "      <td>12.27</td>\n",
       "      <td>5.33</td>\n",
       "      <td>121.22</td>\n",
       "      <td>6.48</td>\n",
       "      <td>9.98</td>\n",
       "      <td>0.0</td>\n",
       "      <td>121.22</td>\n",
       "      <td>0.047990</td>\n",
       "    </tr>\n",
       "  </tbody>\n",
       "</table>\n",
       "</div>"
      ],
      "text/plain": [
       "        Date  SP500  Dividend  Earnings  Consumer Price Index  \\\n",
       "0 1871-01-01   4.44      0.26       0.4                 12.46   \n",
       "1 1871-02-01   4.50      0.26       0.4                 12.84   \n",
       "2 1871-03-01   4.61      0.26       0.4                 13.03   \n",
       "3 1871-04-01   4.74      0.26       0.4                 12.56   \n",
       "4 1871-05-01   4.86      0.26       0.4                 12.27   \n",
       "\n",
       "   Long Interest Rate  Real Price  Real Dividend  Real Earnings  PE10  \\\n",
       "0                5.32      109.05           6.39           9.82   0.0   \n",
       "1                5.32      107.25           6.20           9.53   0.0   \n",
       "2                5.33      108.27           6.11           9.39   0.0   \n",
       "3                5.33      115.54           6.34           9.75   0.0   \n",
       "4                5.33      121.22           6.48           9.98   0.0   \n",
       "\n",
       "   Real_Price  Log_Return  \n",
       "0      109.05         NaN  \n",
       "1      107.25   -0.016644  \n",
       "2      108.27    0.009466  \n",
       "3      115.54    0.064989  \n",
       "4      121.22    0.047990  "
      ]
     },
     "execution_count": 19,
     "metadata": {},
     "output_type": "execute_result"
    }
   ],
   "source": [
    "df.head()"
   ]
  },
  {
   "cell_type": "code",
   "execution_count": null,
   "id": "d74c67b7-eeff-4c25-ab50-b017bcfe3811",
   "metadata": {},
   "outputs": [],
   "source": []
  }
 ],
 "metadata": {
  "kernelspec": {
   "display_name": "Python 3 (ipykernel)",
   "language": "python",
   "name": "python3"
  },
  "language_info": {
   "codemirror_mode": {
    "name": "ipython",
    "version": 3
   },
   "file_extension": ".py",
   "mimetype": "text/x-python",
   "name": "python",
   "nbconvert_exporter": "python",
   "pygments_lexer": "ipython3",
   "version": "3.11.0"
  }
 },
 "nbformat": 4,
 "nbformat_minor": 5
}
